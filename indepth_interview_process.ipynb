{
 "cells": [
  {
   "cell_type": "code",
   "execution_count": 1,
   "metadata": {
    "collapsed": true,
    "pycharm": {
     "is_executing": false
    }
   },
   "outputs": [],
   "source": [
    "import pandas as pd\n",
    "import numpy as np"
   ]
  },
  {
   "cell_type": "code",
   "execution_count": 2,
   "outputs": [],
   "source": [
    "df = pd.read_csv(\"MobilityAnalysis_IndepthInterviews.csv\")"
   ],
   "metadata": {
    "collapsed": false,
    "pycharm": {
     "name": "#%%\n",
     "is_executing": false
    }
   }
  },
  {
   "cell_type": "code",
   "execution_count": 7,
   "outputs": [],
   "source": [
    "df = df.loc[df[\"ID\"] != np.nan]\n",
    "location_class_list = df[\"Location\"].unique()"
   ],
   "metadata": {
    "collapsed": false,
    "pycharm": {
     "name": "#%%\n",
     "is_executing": false
    }
   }
  },
  {
   "cell_type": "code",
   "execution_count": 19,
   "outputs": [
    {
     "name": "stdout",
     "text": [
      "Home\n",
      "School\n",
      "Home\n",
      "Tution\n",
      "ShoppingMall\n",
      "Home\n",
      "BusStation\n",
      "Home\n",
      "School\n",
      "tution\n",
      "Home\n",
      "Home\n",
      "School\n",
      "SchoolCanteen\n",
      "SuperMarkets\n",
      "Home\n",
      "Home\n",
      "ShoppingMall\n",
      "Home\n",
      "School\n",
      "Tuition\n",
      "Home\n",
      "SchoolCanteen\n",
      "Home\n",
      "Tuition\n",
      "Home\n",
      "School\n",
      "Home\n",
      "GatheringPlace\n",
      "Home\n",
      "CommercialBuilding\n",
      "CommercialBuilding\n",
      "Home\n",
      "School\n",
      "Shopping/Retail shop\n",
      "Home\n",
      "Home\n",
      "School Canteen\n",
      "School\n",
      "School Canteen\n",
      "Home\n",
      "Tutuion\n",
      "Tutuion\n",
      "Tutuion\n",
      "Gathering Place\n",
      "Home\n",
      "Home\n",
      "School\n",
      "Home\n",
      "Home\n",
      "FastFoodJoint\n",
      "School\n",
      "School Canteen\n",
      "Tution \n",
      "Home\n",
      "School\n",
      "Home\n",
      "Home\n",
      "nan\n"
     ],
     "output_type": "stream"
    },
    {
     "traceback": [
      "\u001b[1;31m---------------------------------------------------------------------------\u001b[0m",
      "\u001b[1;31mAttributeError\u001b[0m                            Traceback (most recent call last)",
      "\u001b[1;32mC:\\Users\\AI4COV~1\\AppData\\Local\\Temp/ipykernel_22972/2340748998.py\u001b[0m in \u001b[0;36m<module>\u001b[1;34m\u001b[0m\n\u001b[0;32m      9\u001b[0m         \u001b[0mdata\u001b[0m\u001b[1;33m[\u001b[0m\u001b[0mcurrent_occ\u001b[0m\u001b[1;33m]\u001b[0m \u001b[1;33m=\u001b[0m \u001b[1;33m{\u001b[0m\u001b[1;33m}\u001b[0m\u001b[1;33m\u001b[0m\u001b[1;33m\u001b[0m\u001b[0m\n\u001b[0;32m     10\u001b[0m \u001b[1;33m\u001b[0m\u001b[0m\n\u001b[1;32m---> 11\u001b[1;33m     \u001b[0mcurrent_loc\u001b[0m \u001b[1;33m=\u001b[0m \u001b[0mx\u001b[0m\u001b[1;33m[\u001b[0m\u001b[1;34m\"Location\"\u001b[0m\u001b[1;33m]\u001b[0m\u001b[1;33m.\u001b[0m\u001b[0mstrip\u001b[0m\u001b[1;33m(\u001b[0m\u001b[1;33m)\u001b[0m\u001b[1;33m\u001b[0m\u001b[1;33m\u001b[0m\u001b[0m\n\u001b[0m\u001b[0;32m     12\u001b[0m     \u001b[1;32mif\u001b[0m \u001b[0mcurrent_loc\u001b[0m \u001b[1;32mnot\u001b[0m \u001b[1;32min\u001b[0m  \u001b[0mdata\u001b[0m\u001b[1;33m[\u001b[0m\u001b[0mcurrent_occ\u001b[0m\u001b[1;33m]\u001b[0m\u001b[1;33m.\u001b[0m\u001b[0mkeys\u001b[0m\u001b[1;33m(\u001b[0m\u001b[1;33m)\u001b[0m\u001b[1;33m:\u001b[0m\u001b[1;33m\u001b[0m\u001b[1;33m\u001b[0m\u001b[0m\n\u001b[0;32m     13\u001b[0m         \u001b[0mdata\u001b[0m\u001b[1;33m[\u001b[0m\u001b[0mcurrent_occ\u001b[0m\u001b[1;33m]\u001b[0m\u001b[1;33m[\u001b[0m\u001b[0mcurrent_loc\u001b[0m\u001b[1;33m]\u001b[0m \u001b[1;33m=\u001b[0m \u001b[1;33m[\u001b[0m\u001b[1;33m[\u001b[0m\u001b[1;33m]\u001b[0m\u001b[1;33m,\u001b[0m\u001b[1;33m[\u001b[0m\u001b[1;33m]\u001b[0m\u001b[1;33m]\u001b[0m\u001b[1;33m\u001b[0m\u001b[1;33m\u001b[0m\u001b[0m\n",
      "\u001b[1;31mAttributeError\u001b[0m: 'float' object has no attribute 'strip'"
     ],
     "ename": "AttributeError",
     "evalue": "'float' object has no attribute 'strip'",
     "output_type": "error"
    }
   ],
   "source": [
    "data = {}\n",
    "\n",
    "current_occ = None\n",
    "for i,x in df.iterrows():\n",
    "    print(x[\"Location\"])\n",
    "    if not pd.isna(x[\"Occupation\"]):\n",
    "        current_occ = x[\"Occupation\"].strip()\n",
    "    if current_occ not in data.keys():\n",
    "        data[current_occ] = {}\n",
    "    \n",
    "    current_loc = x[\"Location\"].strip()\n",
    "    if current_loc not in  data[current_occ].keys():\n",
    "        data[current_occ][current_loc] = [[],[]]\n",
    "    data[current_occ][current_loc][0].append((x[\"Enter time (avg)\"], x[\"Enter time (var)\"]))\n",
    "    data[current_occ][current_loc][1].append((x[\"Leave time (avg)\"], x[\"Leave time (var)\"]))"
   ],
   "metadata": {
    "collapsed": false,
    "pycharm": {
     "name": "#%%\n",
     "is_executing": false
    }
   }
  },
  {
   "cell_type": "code",
   "execution_count": 20,
   "outputs": [
    {
     "data": {
      "text/plain": "dict_keys(['Teacher'])"
     },
     "metadata": {},
     "output_type": "execute_result",
     "execution_count": 20
    }
   ],
   "source": [
    "data.keys()\n"
   ],
   "metadata": {
    "collapsed": false,
    "pycharm": {
     "name": "#%%\n",
     "is_executing": false
    }
   }
  },
  {
   "cell_type": "code",
   "execution_count": null,
   "outputs": [],
   "source": [
    "\n"
   ],
   "metadata": {
    "collapsed": false,
    "pycharm": {
     "name": "#%%\n"
    }
   }
  }
 ],
 "metadata": {
  "kernelspec": {
   "display_name": "Python 3",
   "language": "python",
   "name": "python3"
  },
  "language_info": {
   "codemirror_mode": {
    "name": "ipython",
    "version": 2
   },
   "file_extension": ".py",
   "mimetype": "text/x-python",
   "name": "python",
   "nbconvert_exporter": "python",
   "pygments_lexer": "ipython2",
   "version": "2.7.6"
  },
  "pycharm": {
   "stem_cell": {
    "cell_type": "raw",
    "source": [],
    "metadata": {
     "collapsed": false
    }
   }
  }
 },
 "nbformat": 4,
 "nbformat_minor": 0
}